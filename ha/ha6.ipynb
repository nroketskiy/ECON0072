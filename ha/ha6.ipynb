{
 "cells": [
  {
   "cell_type": "markdown",
   "metadata": {},
   "source": [
    "# Home assignment 6\n",
    "\n",
    "This journal covers the home assignment 6. \n",
    "\n",
    "We start with loading the modules that we would need:"
   ]
  },
  {
   "cell_type": "code",
   "execution_count": 2,
   "metadata": {},
   "outputs": [],
   "source": [
    "# set up the environment\n",
    "# some of these packages are not required, \n",
    "# I like to keep the stuff I use under the comments and uncomment it whenever I need it\n",
    "\n",
    "# pandas is the module that deals with storing data in a structured way; think of it as excel and sql for python\n",
    "import pandas as pd\n",
    "# Display 5 columns for viewing purposes\n",
    "# pd.set_option('display.max_columns', 5)\n",
    "# Reduce decimal points to 2\n",
    "pd.options.display.float_format = '{:,.2f}'.format\n",
    "\n",
    "\n",
    "# numpy is for all the numerical stuff \n",
    "import numpy as np\n",
    "# this package is useful for importing RData files \n",
    "# to install it run: pip install pyreadr\n",
    "# import pyreadr\n",
    "\n",
    "import glob\n",
    "\n",
    "# import statistical tools (these include regressions that we'll run to estimate the production function)\n",
    "import scipy as sp\n",
    "import scipy.stats\n",
    "import statsmodels.api as sm\n",
    "import statsmodels.formula.api as smf\n",
    "from statsmodels.sandbox.regression.gmm import IV2SLS\n",
    "#from linearmodels.panel import PanelOLS\n",
    "\n",
    "from sklearn.preprocessing import PolynomialFeatures\n",
    "\n",
    "# import seaborn as sns\n",
    "# import locale\n",
    "# from sklearn.decomposition import PCA\n",
    "# from sklearn import preprocessing\n",
    "# from sklearn import linear_model\n",
    "# from sklearn.metrics import mean_squared_error\n",
    "\n",
    "# sns.set_theme(style=\"darkgrid\")\n",
    "\n",
    "# matplotlib is for plotting pretty figures and pictures\n",
    "import matplotlib\n",
    "import matplotlib.pyplot as plt\n",
    "%matplotlib inline \n",
    "# plt.rcParams['text.usetex'] = True\n",
    "\n",
    "# this is to tell python where TeX distribution is in case you need to use LaTeX in your figures\n",
    "import os\n",
    "# os.environ[\"PATH\"] += os.pathsep + '/Library/TeX/texbin'"
   ]
  },
  {
   "cell_type": "markdown",
   "metadata": {},
   "source": [
    "Now we are ready to load the data. This will be done using a function from `panda` package"
   ]
  },
  {
   "cell_type": "code",
   "execution_count": 4,
   "metadata": {},
   "outputs": [
    {
     "data": {
      "text/html": [
       "<div>\n",
       "<style scoped>\n",
       "    .dataframe tbody tr th:only-of-type {\n",
       "        vertical-align: middle;\n",
       "    }\n",
       "\n",
       "    .dataframe tbody tr th {\n",
       "        vertical-align: top;\n",
       "    }\n",
       "\n",
       "    .dataframe thead th {\n",
       "        text-align: right;\n",
       "    }\n",
       "</style>\n",
       "<table border=\"1\" class=\"dataframe\">\n",
       "  <thead>\n",
       "    <tr style=\"text-align: right;\">\n",
       "      <th></th>\n",
       "      <th>prca</th>\n",
       "      <th>prcw</th>\n",
       "      <th>qtya</th>\n",
       "      <th>qtyw</th>\n",
       "      <th>mon</th>\n",
       "      <th>tues</th>\n",
       "      <th>wed</th>\n",
       "      <th>thurs</th>\n",
       "      <th>speed2</th>\n",
       "      <th>wave2</th>\n",
       "      <th>speed3</th>\n",
       "      <th>wave3</th>\n",
       "      <th>avgprc</th>\n",
       "      <th>totqty</th>\n",
       "      <th>lavgprc</th>\n",
       "      <th>ltotqty</th>\n",
       "      <th>t</th>\n",
       "      <th>lavgp_1</th>\n",
       "      <th>gavgprc</th>\n",
       "      <th>gavgp_1</th>\n",
       "    </tr>\n",
       "  </thead>\n",
       "  <tbody>\n",
       "    <tr>\n",
       "      <th>0</th>\n",
       "      <td>0.62</td>\n",
       "      <td>0.77</td>\n",
       "      <td>1875</td>\n",
       "      <td>2205</td>\n",
       "      <td>1</td>\n",
       "      <td>0</td>\n",
       "      <td>0</td>\n",
       "      <td>0</td>\n",
       "      <td>15</td>\n",
       "      <td>7.50</td>\n",
       "      <td>20</td>\n",
       "      <td>9.00</td>\n",
       "      <td>0.70</td>\n",
       "      <td>4080</td>\n",
       "      <td>-0.36</td>\n",
       "      <td>8.31</td>\n",
       "      <td>1</td>\n",
       "      <td>NaN</td>\n",
       "      <td>NaN</td>\n",
       "      <td>NaN</td>\n",
       "    </tr>\n",
       "    <tr>\n",
       "      <th>1</th>\n",
       "      <td>0.97</td>\n",
       "      <td>1.17</td>\n",
       "      <td>2900</td>\n",
       "      <td>566</td>\n",
       "      <td>0</td>\n",
       "      <td>0</td>\n",
       "      <td>1</td>\n",
       "      <td>0</td>\n",
       "      <td>10</td>\n",
       "      <td>5.00</td>\n",
       "      <td>20</td>\n",
       "      <td>7.50</td>\n",
       "      <td>1.01</td>\n",
       "      <td>3466</td>\n",
       "      <td>0.01</td>\n",
       "      <td>8.15</td>\n",
       "      <td>2</td>\n",
       "      <td>-0.36</td>\n",
       "      <td>0.36</td>\n",
       "      <td>NaN</td>\n",
       "    </tr>\n",
       "    <tr>\n",
       "      <th>2</th>\n",
       "      <td>1.23</td>\n",
       "      <td>1.48</td>\n",
       "      <td>770</td>\n",
       "      <td>1525</td>\n",
       "      <td>0</td>\n",
       "      <td>0</td>\n",
       "      <td>0</td>\n",
       "      <td>1</td>\n",
       "      <td>10</td>\n",
       "      <td>6.00</td>\n",
       "      <td>20</td>\n",
       "      <td>4.00</td>\n",
       "      <td>1.39</td>\n",
       "      <td>2295</td>\n",
       "      <td>0.33</td>\n",
       "      <td>7.74</td>\n",
       "      <td>3</td>\n",
       "      <td>0.01</td>\n",
       "      <td>0.33</td>\n",
       "      <td>0.36</td>\n",
       "    </tr>\n",
       "    <tr>\n",
       "      <th>3</th>\n",
       "      <td>1.93</td>\n",
       "      <td>1.62</td>\n",
       "      <td>927</td>\n",
       "      <td>943</td>\n",
       "      <td>0</td>\n",
       "      <td>0</td>\n",
       "      <td>0</td>\n",
       "      <td>0</td>\n",
       "      <td>15</td>\n",
       "      <td>6.00</td>\n",
       "      <td>20</td>\n",
       "      <td>5.00</td>\n",
       "      <td>1.78</td>\n",
       "      <td>1870</td>\n",
       "      <td>0.57</td>\n",
       "      <td>7.53</td>\n",
       "      <td>4</td>\n",
       "      <td>0.33</td>\n",
       "      <td>0.24</td>\n",
       "      <td>0.33</td>\n",
       "    </tr>\n",
       "    <tr>\n",
       "      <th>4</th>\n",
       "      <td>0.80</td>\n",
       "      <td>0.86</td>\n",
       "      <td>4220</td>\n",
       "      <td>2665</td>\n",
       "      <td>1</td>\n",
       "      <td>0</td>\n",
       "      <td>0</td>\n",
       "      <td>0</td>\n",
       "      <td>10</td>\n",
       "      <td>3.50</td>\n",
       "      <td>20</td>\n",
       "      <td>3.50</td>\n",
       "      <td>0.83</td>\n",
       "      <td>6885</td>\n",
       "      <td>-0.19</td>\n",
       "      <td>8.84</td>\n",
       "      <td>5</td>\n",
       "      <td>0.57</td>\n",
       "      <td>-0.76</td>\n",
       "      <td>0.24</td>\n",
       "    </tr>\n",
       "  </tbody>\n",
       "</table>\n",
       "</div>"
      ],
      "text/plain": [
       "   prca  prcw  qtya  qtyw  mon  tues  wed  thurs  speed2  wave2  speed3  \\\n",
       "0  0.62  0.77  1875  2205    1     0    0      0      15   7.50      20   \n",
       "1  0.97  1.17  2900   566    0     0    1      0      10   5.00      20   \n",
       "2  1.23  1.48   770  1525    0     0    0      1      10   6.00      20   \n",
       "3  1.93  1.62   927   943    0     0    0      0      15   6.00      20   \n",
       "4  0.80  0.86  4220  2665    1     0    0      0      10   3.50      20   \n",
       "\n",
       "   wave3  avgprc  totqty  lavgprc  ltotqty  t  lavgp_1  gavgprc  gavgp_1  \n",
       "0   9.00    0.70    4080    -0.36     8.31  1      NaN      NaN      NaN  \n",
       "1   7.50    1.01    3466     0.01     8.15  2    -0.36     0.36      NaN  \n",
       "2   4.00    1.39    2295     0.33     7.74  3     0.01     0.33     0.36  \n",
       "3   5.00    1.78    1870     0.57     7.53  4     0.33     0.24     0.33  \n",
       "4   3.50    0.83    6885    -0.19     8.84  5     0.57    -0.76     0.24  "
      ]
     },
     "execution_count": 4,
     "metadata": {},
     "output_type": "execute_result"
    }
   ],
   "source": [
    "#import the data from csv\n",
    "data_path = \"/Users/uctpnr1/Library/CloudStorage/Dropbox/teaching/ECON0072/2023-24/data\" # path to data files\n",
    "data_files = glob.glob(os.path.join(data_path, \"FISH*.DTA\")) #get a list of all the files in case there are several\n",
    "raw_data = pd.concat((pd.read_stata(f) for f in data_files), ignore_index=True) #load and concatenate them using a loop\n",
    "raw_data.head() #display the first 20 lines of the dataset\n",
    "\n"
   ]
  },
  {
   "cell_type": "code",
   "execution_count": 12,
   "metadata": {},
   "outputs": [
    {
     "data": {
      "text/plain": [
       "<matplotlib.patches.StepPatch at 0x16986aec0>"
      ]
     },
     "execution_count": 12,
     "metadata": {},
     "output_type": "execute_result"
    },
    {
     "data": {
      "image/png": "[encoded data removed]",
      "text/plain": [
       "<Figure size 640x480 with 4 Axes>"
      ]
     },
     "metadata": {},
     "output_type": "display_data"
    }
   ],
   "source": [
    "fig, ax = plt.subplots(4)\n",
    "counts, bins = np.histogram(raw_data['ltotqty'],bins='auto')\n",
    "ax[0].stairs(counts, bins)\n",
    "counts, bins = np.histogram(raw_data['lavgprc'],bins='auto')\n",
    "ax[1].stairs(counts, bins)\n",
    "counts, bins = np.histogram(raw_data['speed2'],bins='auto')\n",
    "ax[2].stairs(counts, bins)\n",
    "counts, bins = np.histogram(raw_data['wave2'],bins='auto')\n",
    "ax[3].stairs(counts, bins)\n"
   ]
  },
  {
   "cell_type": "markdown",
   "metadata": {},
   "source": [
    "### OLS estimation of demand"
   ]
  },
  {
   "cell_type": "code",
   "execution_count": 9,
   "metadata": {},
   "outputs": [
    {
     "name": "stdout",
     "output_type": "stream",
     "text": [
      "                            OLS Regression Results                            \n",
      "==============================================================================\n",
      "Dep. Variable:                ltotqty   R-squared:                       0.217\n",
      "Model:                            OLS   Adj. R-squared:                  0.174\n",
      "Method:                 Least Squares   F-statistic:                     5.039\n",
      "Date:                Mon, 04 Mar 2024   Prob (F-statistic):           0.000403\n",
      "Time:                        11:58:36   Log-Likelihood:                -99.253\n",
      "No. Observations:                  97   AIC:                             210.5\n",
      "Df Residuals:                      91   BIC:                             226.0\n",
      "Df Model:                           5                                         \n",
      "Covariance Type:            nonrobust                                         \n",
      "==============================================================================\n",
      "                 coef    std err          t      P>|t|      [0.025      0.975]\n",
      "------------------------------------------------------------------------------\n",
      "Intercept      8.2443      0.163     50.637      0.000       7.921       8.568\n",
      "lavgprc       -0.5247      0.176     -2.979      0.004      -0.874      -0.175\n",
      "mon           -0.3109      0.226     -1.377      0.172      -0.759       0.138\n",
      "tues          -0.6828      0.223     -3.066      0.003      -1.125      -0.240\n",
      "wed           -0.5339      0.220     -2.427      0.017      -0.971      -0.097\n",
      "thurs          0.0672      0.220      0.305      0.761      -0.371       0.505\n",
      "==============================================================================\n",
      "Omnibus:                       17.382   Durbin-Watson:                   1.498\n",
      "Prob(Omnibus):                  0.000   Jarque-Bera (JB):               24.915\n",
      "Skew:                          -0.824   Prob(JB):                     3.89e-06\n",
      "Kurtosis:                       4.857   Cond. No.                         5.94\n",
      "==============================================================================\n",
      "\n",
      "Notes:\n",
      "[1] Standard Errors assume that the covariance matrix of the errors is correctly specified.\n"
     ]
    }
   ],
   "source": [
    "# model with day-of-the-week dummies\n",
    "model_expr = \"ltotqty~lavgprc+mon+tues+wed+thurs\"\n",
    "model_ols = smf.ols(formula=model_expr, data=raw_data)\n",
    "model_ols_results = model_ols.fit()\n",
    "print(model_ols_results.summary())\n"
   ]
  },
  {
   "cell_type": "code",
   "execution_count": 11,
   "metadata": {},
   "outputs": [
    {
     "data": {
      "text/plain": [
       "Text(0.5, 1.0, 'residuals for OLS')"
      ]
     },
     "execution_count": 11,
     "metadata": {},
     "output_type": "execute_result"
    },
    {
     "data": {
      "image/png": "[encoded data removed]",
      "text/plain": [
       "<Figure size 640x480 with 1 Axes>"
      ]
     },
     "metadata": {},
     "output_type": "display_data"
    }
   ],
   "source": [
    "fig_err, ax_err = plt.subplots()\n",
    "ax_err.scatter(raw_data[\"lavgprc\"], model_ols_results.resid, c=\"green\", alpha=0.5, marker='o')\n",
    "ax_err.set_xlabel(\"log(average_price)\")\n",
    "ax_err.set_ylabel(\"residuals\")\n",
    "ax_err.set_title(\"residuals for OLS\")"
   ]
  },
  {
   "cell_type": "markdown",
   "metadata": {},
   "source": [
    "### Predicting price using `speed2`, `wave2`, `speed3` and `wave3`\n"
   ]
  },
  {
   "cell_type": "code",
   "execution_count": 19,
   "metadata": {},
   "outputs": [
    {
     "name": "stdout",
     "output_type": "stream",
     "text": [
      "                            OLS Regression Results                            \n",
      "==============================================================================\n",
      "Dep. Variable:                 avgprc   R-squared:                       0.365\n",
      "Model:                            OLS   Adj. R-squared:                  0.307\n",
      "Method:                 Least Squares   F-statistic:                     6.315\n",
      "Date:                Mon, 04 Mar 2024   Prob (F-statistic):           1.90e-06\n",
      "Time:                        12:08:16   Log-Likelihood:                -11.637\n",
      "No. Observations:                  97   AIC:                             41.27\n",
      "Df Residuals:                      88   BIC:                             64.45\n",
      "Df Model:                           8                                         \n",
      "Covariance Type:            nonrobust                                         \n",
      "==============================================================================\n",
      "                 coef    std err          t      P>|t|      [0.025      0.975]\n",
      "------------------------------------------------------------------------------\n",
      "Intercept      0.1590      0.137      1.164      0.248      -0.113       0.431\n",
      "speed2        -0.0034      0.009     -0.375      0.709      -0.022       0.015\n",
      "wave2          0.0953      0.021      4.551      0.000       0.054       0.137\n",
      "speed3         0.0016      0.006      0.266      0.791      -0.011       0.014\n",
      "wave3          0.0410      0.020      2.031      0.045       0.001       0.081\n",
      "mon           -0.0435      0.096     -0.454      0.651      -0.234       0.147\n",
      "tues          -0.0294      0.095     -0.308      0.759      -0.219       0.160\n",
      "wed            0.0083      0.092      0.090      0.928      -0.175       0.192\n",
      "thurs          0.0785      0.091      0.862      0.391      -0.103       0.260\n",
      "==============================================================================\n",
      "Omnibus:                        2.677   Durbin-Watson:                   0.803\n",
      "Prob(Omnibus):                  0.262   Jarque-Bera (JB):                2.450\n",
      "Skew:                           0.073   Prob(JB):                        0.294\n",
      "Kurtosis:                       3.765   Cond. No.                         146.\n",
      "==============================================================================\n",
      "\n",
      "Notes:\n",
      "[1] Standard Errors assume that the covariance matrix of the errors is correctly specified.\n",
      "<F test: F=12.434462791942119, p=4.639664667414405e-08, df_denom=88, df_num=4>\n"
     ]
    }
   ],
   "source": [
    "# this model also includes day-of-the-week dummies\n",
    "model_1st = \"avgprc~speed2+wave2+speed3+wave3+mon+tues+wed+thurs\"\n",
    "model_1st = smf.ols(formula=model_1st, data=raw_data)\n",
    "model_1st_results = model_1st.fit()\n",
    "print(model_1st_results.summary())\n",
    "print(model_1st_results.f_test(\"wave2 = 0, speed2 = 0, wave3 = 0, speed3 = 0\")) # The F-test rejects the hypothesis speedX and waveX are not predictive of price"
   ]
  },
  {
   "cell_type": "markdown",
   "metadata": {},
   "source": [
    "### Two-stage IV estimates"
   ]
  },
  {
   "cell_type": "code",
   "execution_count": 23,
   "metadata": {},
   "outputs": [
    {
     "name": "stdout",
     "output_type": "stream",
     "text": [
      "                          IV2SLS Regression Results                           \n",
      "==============================================================================\n",
      "Dep. Variable:                ltotqty   R-squared:                       0.193\n",
      "Model:                         IV2SLS   Adj. R-squared:                  0.148\n",
      "Method:                     Two Stage   F-statistic:                       nan\n",
      "                        Least Squares   Prob (F-statistic):                nan\n",
      "Date:                Mon, 04 Mar 2024                                         \n",
      "Time:                        12:17:53                                         \n",
      "No. Observations:                  97                                         \n",
      "Df Residuals:                      91                                         \n",
      "Df Model:                           5                                         \n",
      "==============================================================================\n",
      "                 coef    std err          t      P>|t|      [0.025      0.975]\n",
      "------------------------------------------------------------------------------\n",
      "lavgprc       -0.8207      0.327     -2.508      0.014      -1.471      -0.171\n",
      "mon            7.8554      0.187     41.925      0.000       7.483       8.228\n",
      "tues           7.4780      0.186     40.121      0.000       7.108       7.848\n",
      "wed            7.6424      0.175     43.715      0.000       7.295       7.990\n",
      "thurs          8.2580      0.169     48.993      0.000       7.923       8.593\n",
      "fri            8.1627      0.182     44.913      0.000       7.802       8.524\n",
      "==============================================================================\n",
      "Omnibus:                       13.917   Durbin-Watson:                   1.413\n",
      "Prob(Omnibus):                  0.001   Jarque-Bera (JB):               16.814\n",
      "Skew:                          -0.757   Prob(JB):                     0.000223\n",
      "Kurtosis:                       4.368   Cond. No.                         1.81\n",
      "==============================================================================\n"
     ]
    }
   ],
   "source": [
    "raw_data[\"fri\"] = 1-raw_data[\"mon\"]-raw_data[\"tues\"]-raw_data[\"wed\"]-raw_data[\"thurs\"]\n",
    "exog_labels = [\"lavgprc\", \"mon\", \"tues\", \"wed\", \"thurs\", \"fri\"]\n",
    "inst_labels = [\"speed2\", \"wave2\", \"speed3\", \"wave3\", \"mon\", \"tues\", \"wed\", \"thurs\", \"fri\"]\n",
    "\n",
    "iv2sls_model = IV2SLS(endog=raw_data['ltotqty'], exog=raw_data[exog_labels], instrument=raw_data[inst_labels])\n",
    "iv2sls_model_results = iv2sls_model.fit()\n",
    "print(iv2sls_model_results.summary())"
   ]
  },
  {
   "cell_type": "code",
   "execution_count": 25,
   "metadata": {},
   "outputs": [
    {
     "name": "stdout",
     "output_type": "stream",
     "text": [
      "                          IV2SLS Regression Results                           \n",
      "==============================================================================\n",
      "Dep. Variable:                  lqtyw   R-squared:                       0.195\n",
      "Model:                         IV2SLS   Adj. R-squared:                  0.151\n",
      "Method:                     Two Stage   F-statistic:                       nan\n",
      "                        Least Squares   Prob (F-statistic):                nan\n",
      "Date:                Mon, 04 Mar 2024                                         \n",
      "Time:                        12:35:53                                         \n",
      "No. Observations:                  97                                         \n",
      "Df Residuals:                      91                                         \n",
      "Df Model:                           5                                         \n",
      "==============================================================================\n",
      "                 coef    std err          t      P>|t|      [0.025      0.975]\n",
      "------------------------------------------------------------------------------\n",
      "lprcw         -0.8172      0.377     -2.166      0.033      -1.567      -0.068\n",
      "mon            7.1175      0.204     34.876      0.000       6.712       7.523\n",
      "tues           6.2959      0.208     30.272      0.000       5.883       6.709\n",
      "wed            6.4695      0.189     34.289      0.000       6.095       6.844\n",
      "thurs          7.4890      0.189     39.711      0.000       7.114       7.864\n",
      "fri            6.9906      0.201     34.743      0.000       6.591       7.390\n",
      "==============================================================================\n",
      "Omnibus:                       28.439   Durbin-Watson:                   1.484\n",
      "Prob(Omnibus):                  0.000   Jarque-Bera (JB):               53.575\n",
      "Skew:                          -1.165   Prob(JB):                     2.32e-12\n",
      "Kurtosis:                       5.797   Cond. No.                         1.62\n",
      "==============================================================================\n"
     ]
    }
   ],
   "source": [
    "# The same estimates done for white buyers separately\n",
    "\n",
    "raw_data[\"lprcw\"] = np.log(raw_data[\"prcw\"])\n",
    "raw_data[\"lqtyw\"] = np.log(raw_data[\"qtyw\"])\n",
    "exog_labels = [\"lprcw\", \"mon\", \"tues\", \"wed\", \"thurs\", \"fri\"]\n",
    "inst_labels = [\"speed2\", \"wave2\", \"speed3\", \"wave3\", \"mon\", \"tues\", \"wed\", \"thurs\", \"fri\"]\n",
    "\n",
    "iv2sls_model_w = IV2SLS(endog=raw_data['lqtyw'], exog=raw_data[exog_labels], instrument=raw_data[inst_labels])\n",
    "iv2sls_model_wresults = iv2sls_model_w.fit()\n",
    "print(iv2sls_model_wresults.summary())"
   ]
  },
  {
   "cell_type": "code",
   "execution_count": 26,
   "metadata": {},
   "outputs": [
    {
     "name": "stdout",
     "output_type": "stream",
     "text": [
      "                          IV2SLS Regression Results                           \n",
      "==============================================================================\n",
      "Dep. Variable:                  lqtya   R-squared:                       0.155\n",
      "Model:                         IV2SLS   Adj. R-squared:                  0.108\n",
      "Method:                     Two Stage   F-statistic:                       nan\n",
      "                        Least Squares   Prob (F-statistic):                nan\n",
      "Date:                Mon, 04 Mar 2024                                         \n",
      "Time:                        12:36:08                                         \n",
      "No. Observations:                  97                                         \n",
      "Df Residuals:                      91                                         \n",
      "Df Model:                           5                                         \n",
      "==============================================================================\n",
      "                 coef    std err          t      P>|t|      [0.025      0.975]\n",
      "------------------------------------------------------------------------------\n",
      "lprca         -0.8372      0.383     -2.184      0.032      -1.599      -0.076\n",
      "mon            7.1065      0.237     30.001      0.000       6.636       7.577\n",
      "tues           6.8805      0.227     30.287      0.000       6.429       7.332\n",
      "wed            7.2125      0.217     33.196      0.000       6.781       7.644\n",
      "thurs          7.5665      0.207     36.598      0.000       7.156       7.977\n",
      "fri            7.6922      0.218     35.317      0.000       7.260       8.125\n",
      "==============================================================================\n",
      "Omnibus:                        4.545   Durbin-Watson:                   1.587\n",
      "Prob(Omnibus):                  0.103   Jarque-Bera (JB):                4.039\n",
      "Skew:                          -0.492   Prob(JB):                        0.133\n",
      "Kurtosis:                       3.181   Cond. No.                         1.94\n",
      "==============================================================================\n"
     ]
    }
   ],
   "source": [
    "# The same estimates done for asian buyers separately\n",
    "\n",
    "raw_data[\"lprca\"] = np.log(raw_data[\"prca\"])\n",
    "raw_data[\"lqtya\"] = np.log(raw_data[\"qtya\"])\n",
    "exog_labels = [\"lprca\", \"mon\", \"tues\", \"wed\", \"thurs\", \"fri\"]\n",
    "inst_labels = [\"speed2\", \"wave2\", \"speed3\", \"wave3\", \"mon\", \"tues\", \"wed\", \"thurs\", \"fri\"]\n",
    "\n",
    "iv2sls_model_a = IV2SLS(endog=raw_data['lqtya'], exog=raw_data[exog_labels], instrument=raw_data[inst_labels])\n",
    "iv2sls_model_aresults = iv2sls_model_a.fit()\n",
    "print(iv2sls_model_aresults.summary())"
   ]
  },
  {
   "cell_type": "code",
   "execution_count": null,
   "metadata": {},
   "outputs": [],
   "source": []
  }
 ],
 "metadata": {
  "kernelspec": {
   "display_name": "Python 3 (ipykernel)",
   "language": "python",
   "name": "python3"
  },
  "language_info": {
   "codemirror_mode": {
    "name": "ipython",
    "version": 3
   },
   "file_extension": ".py",
   "mimetype": "text/x-python",
   "name": "python",
   "nbconvert_exporter": "python",
   "pygments_lexer": "ipython3",
   "version": "3.10.9"
  }
 },
 "nbformat": 4,
 "nbformat_minor": 4
}
